{
 "cells": [
  {
   "attachments": {},
   "cell_type": "markdown",
   "metadata": {},
   "source": [
    "# ESTUDIO DE CASO : ANÁLALISIS EXPLORADOTIRO DE DATOS"
   ]
  },
  {
   "attachments": {},
   "cell_type": "markdown",
   "metadata": {},
   "source": [
    "#### 0. EL PROBLEMA DEL NEGOCIO \n",
    "\n",
    "La empresa A&A Ltda, empieza un proceso de implementación de Machine Learning, usted ha sido designado para una de las tareas más importante dentro del proyecto, el cual consisten en realizar el análisis exploratorio de los datos y documentar los resultados encontrados, generando un informe que involucre los procedimientos y los resultados.\n",
    "\n",
    "El archivo que se analizara corresponde a precios de viviendas y locales para la venta y la colección de datos cuenta con variables que se ven involucradas en ese valor."
   ]
  },
  {
   "attachments": {},
   "cell_type": "markdown",
   "metadata": {},
   "source": [
    "#### 1. PREGUNTA A RESPONDER\n",
    "\n",
    "¿De que depende el precios de venta de una vivienda o local ?"
   ]
  },
  {
   "attachments": {},
   "cell_type": "markdown",
   "metadata": {},
   "source": [
    "#### 2. GENERALIDADES DEL DATASET"
   ]
  },
  {
   "attachments": {},
   "cell_type": "markdown",
   "metadata": {},
   "source": [
    "#### 3. LECTURA DEL DATASET "
   ]
  },
  {
   "cell_type": "code",
   "execution_count": 4,
   "metadata": {},
   "outputs": [],
   "source": [
    "# Importar librerías\n",
    "import pandas as pd\n",
    "import matplotlib.pyplot as plt\n",
    "import seaborn as sns"
   ]
  },
  {
   "cell_type": "code",
   "execution_count": 3,
   "metadata": {},
   "outputs": [],
   "source": [
    "# Lectura\n",
    "ruta = \"./Curso Sena/datos/Inmuebles_Disponibles_Para_La_Venta.csv\"\n",
    "data = pd.read_csv(ruta)"
   ]
  },
  {
   "cell_type": "code",
   "execution_count": 23,
   "metadata": {},
   "outputs": [
    {
     "name": "stdout",
     "output_type": "stream",
     "text": [
      "(448, 12)\n"
     ]
    },
    {
     "data": {
      "text/html": [
       "<div>\n",
       "<style scoped>\n",
       "    .dataframe tbody tr th:only-of-type {\n",
       "        vertical-align: middle;\n",
       "    }\n",
       "\n",
       "    .dataframe tbody tr th {\n",
       "        vertical-align: top;\n",
       "    }\n",
       "\n",
       "    .dataframe thead th {\n",
       "        text-align: right;\n",
       "    }\n",
       "</style>\n",
       "<table border=\"1\" class=\"dataframe\">\n",
       "  <thead>\n",
       "    <tr style=\"text-align: right;\">\n",
       "      <th></th>\n",
       "      <th>Codigo</th>\n",
       "      <th>Ciudad</th>\n",
       "      <th>Departamento</th>\n",
       "      <th>Barrio</th>\n",
       "      <th>Direccion</th>\n",
       "      <th>Area Terreno</th>\n",
       "      <th>Area Construida</th>\n",
       "      <th>Detalle Disponibilidad</th>\n",
       "      <th>Estrato</th>\n",
       "      <th>Precio</th>\n",
       "      <th>Tipo de Inmueble</th>\n",
       "      <th>Datos Adicionales</th>\n",
       "    </tr>\n",
       "  </thead>\n",
       "  <tbody>\n",
       "    <tr>\n",
       "      <th>0</th>\n",
       "      <td>2330</td>\n",
       "      <td>BOGOTA</td>\n",
       "      <td>CUNDINAMARCA</td>\n",
       "      <td>SANTA MATILDE</td>\n",
       "      <td>CL 10 SUR # 34B-24 LT 2 MZ X-46 (SANTA MATILDE...</td>\n",
       "      <td>559804</td>\n",
       "      <td>0</td>\n",
       "      <td>COMERCIALIZABLE CON RESTRICCION</td>\n",
       "      <td>TRES</td>\n",
       "      <td>134280960000000</td>\n",
       "      <td>LOTE VIVIENDA</td>\n",
       "      <td>NaN</td>\n",
       "    </tr>\n",
       "    <tr>\n",
       "      <th>1</th>\n",
       "      <td>2363</td>\n",
       "      <td>BOGOTA</td>\n",
       "      <td>CUNDINAMARCA</td>\n",
       "      <td>TINTALA</td>\n",
       "      <td>KR 84 CON CL 10 LT # 8 DE SAN JUAN DE CASTILLA...</td>\n",
       "      <td>302079</td>\n",
       "      <td>0</td>\n",
       "      <td>COMERCIALIZABLE CON RESTRICCION</td>\n",
       "      <td>TRES</td>\n",
       "      <td>32857503970000</td>\n",
       "      <td>LOTE COMERCIAL</td>\n",
       "      <td>ESTE INMUEBLE PRESENTA ZONA DE RESERVA VIAL, Q...</td>\n",
       "    </tr>\n",
       "    <tr>\n",
       "      <th>2</th>\n",
       "      <td>2575</td>\n",
       "      <td>SOGAMOSO</td>\n",
       "      <td>BOYACÁ</td>\n",
       "      <td>CENTRO</td>\n",
       "      <td>CRA. 10 #11- 78/80 Ó CL 12 # 9 - 77/85 Ó CALLE...</td>\n",
       "      <td>165508</td>\n",
       "      <td>726900</td>\n",
       "      <td>COMERCIALIZABLE CON RESTRICCION</td>\n",
       "      <td>COMERCIAL</td>\n",
       "      <td>147133144000000</td>\n",
       "      <td>CLINICA</td>\n",
       "      <td>ESTE INMUEBLE SE COMERCIALIZARÁ A TRAVÉS DE SU...</td>\n",
       "    </tr>\n",
       "    <tr>\n",
       "      <th>3</th>\n",
       "      <td>2669</td>\n",
       "      <td>LA CALERA</td>\n",
       "      <td>CUNDINAMARCA</td>\n",
       "      <td>LA CALERA</td>\n",
       "      <td>LOTE 3 PARCELACIÓN LOS CERROS HACIENDA SAN RAFAEL</td>\n",
       "      <td>3000000</td>\n",
       "      <td>0</td>\n",
       "      <td>COMERCIALIZABLE CON RESTRICCION</td>\n",
       "      <td>RURAL</td>\n",
       "      <td>5520000000000</td>\n",
       "      <td>LOTE VIVIENDA</td>\n",
       "      <td>NaN</td>\n",
       "    </tr>\n",
       "    <tr>\n",
       "      <th>4</th>\n",
       "      <td>4408</td>\n",
       "      <td>BOGOTA</td>\n",
       "      <td>CUNDINAMARCA</td>\n",
       "      <td>SUBA</td>\n",
       "      <td>DG 140 # 67 - 30 IN 6 (ZONA DE AFECTACIÓN PLAN...</td>\n",
       "      <td>1774266</td>\n",
       "      <td>0</td>\n",
       "      <td>COMERCIALIZABLE CON RESTRICCION</td>\n",
       "      <td>COMERCIAL</td>\n",
       "      <td>138038206000000</td>\n",
       "      <td>LOTE VIVIENDA</td>\n",
       "      <td>NaN</td>\n",
       "    </tr>\n",
       "  </tbody>\n",
       "</table>\n",
       "</div>"
      ],
      "text/plain": [
       "   Codigo     Ciudad  Departamento         Barrio  \\\n",
       "0    2330     BOGOTA  CUNDINAMARCA  SANTA MATILDE   \n",
       "1    2363     BOGOTA  CUNDINAMARCA        TINTALA   \n",
       "2    2575   SOGAMOSO        BOYACÁ         CENTRO   \n",
       "3    2669  LA CALERA  CUNDINAMARCA      LA CALERA   \n",
       "4    4408     BOGOTA  CUNDINAMARCA           SUBA   \n",
       "\n",
       "                                           Direccion  Area Terreno  \\\n",
       "0  CL 10 SUR # 34B-24 LT 2 MZ X-46 (SANTA MATILDE...        559804   \n",
       "1  KR 84 CON CL 10 LT # 8 DE SAN JUAN DE CASTILLA...        302079   \n",
       "2  CRA. 10 #11- 78/80 Ó CL 12 # 9 - 77/85 Ó CALLE...        165508   \n",
       "3  LOTE 3 PARCELACIÓN LOS CERROS HACIENDA SAN RAFAEL       3000000   \n",
       "4  DG 140 # 67 - 30 IN 6 (ZONA DE AFECTACIÓN PLAN...       1774266   \n",
       "\n",
       "   Area Construida           Detalle Disponibilidad    Estrato  \\\n",
       "0                0  COMERCIALIZABLE CON RESTRICCION       TRES   \n",
       "1                0  COMERCIALIZABLE CON RESTRICCION       TRES   \n",
       "2           726900  COMERCIALIZABLE CON RESTRICCION  COMERCIAL   \n",
       "3                0  COMERCIALIZABLE CON RESTRICCION      RURAL   \n",
       "4                0  COMERCIALIZABLE CON RESTRICCION  COMERCIAL   \n",
       "\n",
       "            Precio Tipo de Inmueble  \\\n",
       "0  134280960000000    LOTE VIVIENDA   \n",
       "1   32857503970000   LOTE COMERCIAL   \n",
       "2  147133144000000          CLINICA   \n",
       "3    5520000000000    LOTE VIVIENDA   \n",
       "4  138038206000000    LOTE VIVIENDA   \n",
       "\n",
       "                                   Datos Adicionales  \n",
       "0                                                NaN  \n",
       "1  ESTE INMUEBLE PRESENTA ZONA DE RESERVA VIAL, Q...  \n",
       "2  ESTE INMUEBLE SE COMERCIALIZARÁ A TRAVÉS DE SU...  \n",
       "3                                                NaN  \n",
       "4                                                NaN  "
      ]
     },
     "execution_count": 23,
     "metadata": {},
     "output_type": "execute_result"
    }
   ],
   "source": [
    " # Total de Registros y total de columnas\n",
    "print(data.shape)\n",
    "data.head()"
   ]
  },
  {
   "cell_type": "code",
   "execution_count": 25,
   "metadata": {},
   "outputs": [
    {
     "name": "stdout",
     "output_type": "stream",
     "text": [
      "<class 'pandas.core.frame.DataFrame'>\n",
      "RangeIndex: 448 entries, 0 to 447\n",
      "Data columns (total 12 columns):\n",
      " #   Column                  Non-Null Count  Dtype \n",
      "---  ------                  --------------  ----- \n",
      " 0   Codigo                  448 non-null    int64 \n",
      " 1   Ciudad                  448 non-null    object\n",
      " 2   Departamento            448 non-null    object\n",
      " 3   Barrio                  59 non-null     object\n",
      " 4   Direccion               448 non-null    object\n",
      " 5   Area Terreno            448 non-null    int64 \n",
      " 6   Area Construida         448 non-null    int64 \n",
      " 7   Detalle Disponibilidad  448 non-null    object\n",
      " 8   Estrato                 448 non-null    object\n",
      " 9   Precio                  448 non-null    int64 \n",
      " 10  Tipo de Inmueble        448 non-null    object\n",
      " 11  Datos Adicionales       77 non-null     object\n",
      "dtypes: int64(4), object(8)\n",
      "memory usage: 42.1+ KB\n"
     ]
    }
   ],
   "source": [
    "# Veamos las variables categóricas y las numéricas\n",
    "data.info()"
   ]
  },
  {
   "attachments": {},
   "cell_type": "markdown",
   "metadata": {},
   "source": [
    "#### 4. LIMPIEZA DE LOS DATOS\n",
    "\n",
    "Realizaremos el proceso de limpieza teniendo en cuenta las situaciones más comunes:\n",
    "\n",
    "1. Datos faltantes en algunas celdas\n",
    "2. Columnas irrelevantes (que no responden al problema que queremos resolver)\n",
    "3. Registros (filas) repetidos\n",
    "4. Valores extremos (*outliers*) en el caso de las variables numéricas. Se deben analizar en detalle pues no necesariamente la solución es eliminarlos\n",
    "5. Errores tipográficos en el caso de las variables categóricas\n",
    "\n",
    "Al final de este proceso de limpieza deberíamos tener un set de datos **íntegro**, listo para la fase de Análisis Exploratorio."
   ]
  },
  {
   "attachments": {},
   "cell_type": "markdown",
   "metadata": {},
   "source": [
    "##### 4.1 Datos faltantes\n",
    "Acá comenzamos a ver que los datos no están completos, pues no todas las columnas tienen la misma cantidad de registros.\n",
    "El número total de registros debería ser 463. Sin embargo columnas como \"Barrio\", tiene solo 40 y la columna \"Datos Adicionales\" Tiene 118\n",
    "Por ser tan pocos los datos  faltantes optaremos por eliminar las filas correspondientes:"
   ]
  },
  {
   "attachments": {},
   "cell_type": "markdown",
   "metadata": {},
   "source": [
    "##### 4.2 Columnas Irrelevantes\n",
    "No se identifican columnas irrelevantes porque todas pueden incidir en el precio de la vivienda o local"
   ]
  },
  {
   "cell_type": "code",
   "execution_count": 26,
   "metadata": {},
   "outputs": [
    {
     "name": "stdout",
     "output_type": "stream",
     "text": [
      "Columna Ciudad: 48 subniveles\n",
      "Columna Departamento: 15 subniveles\n",
      "Columna Barrio: 24 subniveles\n",
      "Columna Direccion: 435 subniveles\n",
      "Columna Detalle Disponibilidad: 7 subniveles\n",
      "Columna Estrato: 9 subniveles\n",
      "Columna Tipo de Inmueble: 19 subniveles\n",
      "Columna Datos Adicionales: 52 subniveles\n"
     ]
    }
   ],
   "source": [
    "# Conteo de los niveles en las diferentes columnas categóricas\n",
    "cols_cat = ['Ciudad', 'Departamento', 'Barrio', 'Direccion', 'Detalle Disponibilidad','Estrato', 'Tipo de Inmueble', 'Datos Adicionales']\n",
    "\n",
    "for col in cols_cat:\n",
    "  print(f'Columna {col}: {data[col].nunique()} subniveles')"
   ]
  },
  {
   "attachments": {},
   "cell_type": "markdown",
   "metadata": {},
   "source": [
    "Todas las columnas categóricas tienen más de 1 subnivel. No eliminaremos ninguna.\n",
    "\n",
    "Verifiquemos lo que ocurre con las columnas numéricas:"
   ]
  },
  {
   "cell_type": "code",
   "execution_count": 27,
   "metadata": {},
   "outputs": [
    {
     "data": {
      "text/html": [
       "<div>\n",
       "<style scoped>\n",
       "    .dataframe tbody tr th:only-of-type {\n",
       "        vertical-align: middle;\n",
       "    }\n",
       "\n",
       "    .dataframe tbody tr th {\n",
       "        vertical-align: top;\n",
       "    }\n",
       "\n",
       "    .dataframe thead th {\n",
       "        text-align: right;\n",
       "    }\n",
       "</style>\n",
       "<table border=\"1\" class=\"dataframe\">\n",
       "  <thead>\n",
       "    <tr style=\"text-align: right;\">\n",
       "      <th></th>\n",
       "      <th>Codigo</th>\n",
       "      <th>Area Terreno</th>\n",
       "      <th>Area Construida</th>\n",
       "      <th>Precio</th>\n",
       "    </tr>\n",
       "  </thead>\n",
       "  <tbody>\n",
       "    <tr>\n",
       "      <th>count</th>\n",
       "      <td>448.000000</td>\n",
       "      <td>4.480000e+02</td>\n",
       "      <td>4.480000e+02</td>\n",
       "      <td>4.480000e+02</td>\n",
       "    </tr>\n",
       "    <tr>\n",
       "      <th>mean</th>\n",
       "      <td>17680.200893</td>\n",
       "      <td>1.619546e+06</td>\n",
       "      <td>1.155153e+04</td>\n",
       "      <td>9.372906e+12</td>\n",
       "    </tr>\n",
       "    <tr>\n",
       "      <th>std</th>\n",
       "      <td>2542.955951</td>\n",
       "      <td>1.858858e+07</td>\n",
       "      <td>1.285177e+05</td>\n",
       "      <td>3.817964e+13</td>\n",
       "    </tr>\n",
       "    <tr>\n",
       "      <th>min</th>\n",
       "      <td>2330.000000</td>\n",
       "      <td>0.000000e+00</td>\n",
       "      <td>0.000000e+00</td>\n",
       "      <td>0.000000e+00</td>\n",
       "    </tr>\n",
       "    <tr>\n",
       "      <th>25%</th>\n",
       "      <td>18128.750000</td>\n",
       "      <td>0.000000e+00</td>\n",
       "      <td>0.000000e+00</td>\n",
       "      <td>1.257250e+11</td>\n",
       "    </tr>\n",
       "    <tr>\n",
       "      <th>50%</th>\n",
       "      <td>18291.500000</td>\n",
       "      <td>0.000000e+00</td>\n",
       "      <td>0.000000e+00</td>\n",
       "      <td>1.652050e+11</td>\n",
       "    </tr>\n",
       "    <tr>\n",
       "      <th>75%</th>\n",
       "      <td>18472.000000</td>\n",
       "      <td>0.000000e+00</td>\n",
       "      <td>0.000000e+00</td>\n",
       "      <td>1.861440e+12</td>\n",
       "    </tr>\n",
       "    <tr>\n",
       "      <th>max</th>\n",
       "      <td>19353.000000</td>\n",
       "      <td>3.217197e+08</td>\n",
       "      <td>2.272400e+06</td>\n",
       "      <td>4.523379e+14</td>\n",
       "    </tr>\n",
       "  </tbody>\n",
       "</table>\n",
       "</div>"
      ],
      "text/plain": [
       "             Codigo  Area Terreno  Area Construida        Precio\n",
       "count    448.000000  4.480000e+02     4.480000e+02  4.480000e+02\n",
       "mean   17680.200893  1.619546e+06     1.155153e+04  9.372906e+12\n",
       "std     2542.955951  1.858858e+07     1.285177e+05  3.817964e+13\n",
       "min     2330.000000  0.000000e+00     0.000000e+00  0.000000e+00\n",
       "25%    18128.750000  0.000000e+00     0.000000e+00  1.257250e+11\n",
       "50%    18291.500000  0.000000e+00     0.000000e+00  1.652050e+11\n",
       "75%    18472.000000  0.000000e+00     0.000000e+00  1.861440e+12\n",
       "max    19353.000000  3.217197e+08     2.272400e+06  4.523379e+14"
      ]
     },
     "execution_count": 27,
     "metadata": {},
     "output_type": "execute_result"
    }
   ],
   "source": [
    "# Muestra todas las columnas numericas\n",
    "data.describe()"
   ]
  },
  {
   "attachments": {},
   "cell_type": "markdown",
   "metadata": {},
   "source": [
    "Todas las columnas numéricas tienen desviaciones estándar (\"std\") diferentes de cero, lo que indica que no tienen un único valor.\n",
    "\n",
    "Preservaremos todas las columnas numéricas."
   ]
  },
  {
   "attachments": {},
   "cell_type": "markdown",
   "metadata": {},
   "source": [
    "#### 4.3 Filas repetidas"
   ]
  },
  {
   "cell_type": "code",
   "execution_count": 28,
   "metadata": {},
   "outputs": [
    {
     "name": "stdout",
     "output_type": "stream",
     "text": [
      "Tamaño del set antes de eliminar las filas repetidas: (448, 12)\n",
      "Tamaño del set después de eliminar las filas repetidas: (448, 12)\n"
     ]
    }
   ],
   "source": [
    "print(f'Tamaño del set antes de eliminar las filas repetidas: {data.shape}')\n",
    "data.drop_duplicates(inplace=True)\n",
    "print(f'Tamaño del set después de eliminar las filas repetidas: {data.shape}')"
   ]
  },
  {
   "attachments": {},
   "cell_type": "markdown",
   "metadata": {},
   "source": [
    "####4.4 *Outliers* en las variables numéricas\n",
    "\n",
    "No siempre se deben eliminar los *outliers* porque dependiendo de la variable numérica analizada estos pueden contener información importante.\n",
    "\n",
    "Creemos gráficas tipo \"boxplot\" de las columnas numéricas:"
   ]
  },
  {
   "cell_type": "code",
   "execution_count": 32,
   "metadata": {},
   "outputs": [
    {
     "data": {
      "image/png": "[encoded data removed]",
      "text/plain": [
       "<Figure size 2000x2000 with 3 Axes>"
      ]
     },
     "metadata": {},
     "output_type": "display_data"
    }
   ],
   "source": [
    "# Generar gráficas individuales pues las variables numéricas\n",
    "# están en rangos diferentes\n",
    "cols_num = ['Area Terreno', 'Area Construida', 'Precio']\n",
    "\n",
    "fig, ax = plt.subplots(nrows=3, ncols=1, figsize=(20,20))\n",
    "fig.subplots_adjust(hspace=0.2)\n",
    "\n",
    "for i, col in enumerate(cols_num):\n",
    "    sns.boxplot(x=col, data=data, ax=ax[i])\n",
    "    ax[i].set_title(col)"
   ]
  }
 ],
 "metadata": {
  "kernelspec": {
   "display_name": "base",
   "language": "python",
   "name": "python3"
  },
  "language_info": {
   "codemirror_mode": {
    "name": "ipython",
    "version": 3
   },
   "file_extension": ".py",
   "mimetype": "text/x-python",
   "name": "python",
   "nbconvert_exporter": "python",
   "pygments_lexer": "ipython3",
   "version": "3.10.9"
  },
  "orig_nbformat": 4
 },
 "nbformat": 4,
 "nbformat_minor": 2
}
